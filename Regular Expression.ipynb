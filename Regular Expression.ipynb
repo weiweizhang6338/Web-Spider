{
 "cells": [
  {
   "cell_type": "markdown",
   "metadata": {},
   "source": [
    "举个例子：假如你在写一个爬虫，你得到了一个网页的HTML源码。其中有一段："
   ]
  },
  {
   "cell_type": "code",
   "execution_count": null,
   "metadata": {
    "collapsed": true
   },
   "outputs": [],
   "source": [
    "<html><body><h1>hello world<h1></body></html>"
   ]
  },
  {
   "cell_type": "markdown",
   "metadata": {},
   "source": [
    "你想要把这个hello world提取出来，如果拿正则处理这个表达式要怎么做呢？"
   ]
  },
  {
   "cell_type": "code",
   "execution_count": 1,
   "metadata": {
    "collapsed": false
   },
   "outputs": [
    {
     "name": "stdout",
     "output_type": "stream",
     "text": [
      "hello world\n"
     ]
    }
   ],
   "source": [
    "import re\n",
    "\n",
    "key = r\"<html><body><h1>hello world<h1></body></html>\"#这段是你要匹配的文本\n",
    "p1 = r\"(?<=<h1>).+?(?=<h1>)\"#这是我们写的正则表达式规则，你现在可以不理解啥意思\n",
    "pattern1 = re.compile(p1)#我们在编译这段正则表达式\n",
    "matcher1 = re.search(pattern1,key)#在源文本中搜索符合正则表达式的部分\n",
    "print matcher1.group(0)#打印出来"
   ]
  },
  {
   "cell_type": "markdown",
   "metadata": {},
   "source": [
    "首先，从最基础的正则表达式说起。\n",
    "\n",
    "假设我们的想法是把一个字符串中的所有\"python\"给匹配到。我们试一试怎么做："
   ]
  },
  {
   "cell_type": "code",
   "execution_count": 2,
   "metadata": {
    "collapsed": false
   },
   "outputs": [
    {
     "name": "stdout",
     "output_type": "stream",
     "text": [
      "python\n"
     ]
    }
   ],
   "source": [
    "import re\n",
    "\n",
    "key = r\"javapythonhtmlvhdl\"#这是源文本\n",
    "p1 = r\"python\"#这是我们写的正则表达式\n",
    "pattern1 = re.compile(p1)#同样是编译\n",
    "matcher1 = re.search(pattern1,key)#同样是查询\n",
    "print matcher1.group(0)"
   ]
  },
  {
   "cell_type": "markdown",
   "metadata": {},
   "source": [
    "看完这段代码，你是不是觉得：卧槽？这就是正则表达式？直接写上去就行？\n",
    "\n",
    "确实，正则表达式并不像它表面上那么奇葩，如果不是我们故意改变一些符号的含义时，你看到的就是想要匹配的。\n",
    "\n",
    "所以，先把大脑清空，先认为正则表达式就是和想要匹配的字符串长得一样。在之后的练习中我们会逐步进化。"
   ]
  },
  {
   "cell_type": "markdown",
   "metadata": {},
   "source": [
    "# 初级\n",
    "\n",
    "1. 无论是python还是正则表达式都是区分大小写的，所以当你在上面那个例子上把\"python\"换成了\"Python\"，那就匹配不到你心爱的python了。\n",
    "\n",
    "2. 重新回到第一个例子中那个hello world匹配。假如我像这么写，会怎么样？"
   ]
  },
  {
   "cell_type": "code",
   "execution_count": 5,
   "metadata": {
    "collapsed": false
   },
   "outputs": [
    {
     "name": "stdout",
     "output_type": "stream",
     "text": [
      "['<h1>hello world<h1>']\n"
     ]
    }
   ],
   "source": [
    "import re\n",
    "\n",
    "key = r\"<h1>hello world<h1>\"#源文本\n",
    "p1 = r\"<h1>.+<h1>\"#我们写的正则表达式，下面会讲为什么\n",
    "pattern1 = re.compile(p1)\n",
    "print pattern1.findall(key)#发没发现，我怎么写成findall了？咋变了呢？"
   ]
  },
  {
   "cell_type": "markdown",
   "metadata": {},
   "source": [
    "<font color=red size=10>.</font>字符在正则表达式代表着可以代表任何一个字符（包括它本身）;\n",
    "findall 返回的是所有符合要求的元素列表，包括仅有一个元素时，它还是给你返回的列表\n",
    "\n",
    "机智如你可能会突然问：那我如果就只是想匹配\".\"呢？结果啥都给我返回了咋整？在正则表达式中有一个字符\\，其实如果你编程经验较多的话，你就会发现这是好多地方的“转义符”。在正则表达式里，这个符号通常用来把特殊的符号转成普通的，把普通的转成特殊的.\n",
    "\n",
    "举个栗子，你真的想匹配\"chuxiuhong@hit.edu.cn\"这个邮箱（我的邮箱），你可以把正则表达式写成下面这个样子："
   ]
  },
  {
   "cell_type": "code",
   "execution_count": 6,
   "metadata": {
    "collapsed": false
   },
   "outputs": [
    {
     "name": "stdout",
     "output_type": "stream",
     "text": [
      "['chuxiuhong@hit.edu.cn']\n"
     ]
    }
   ],
   "source": [
    "import re\n",
    "\n",
    "key = r\"afiouwehrfuichuxiuhong@hit.edu.cnaskdjhfiosueh\"\n",
    "p1 = r\"chuxiuhong@hit\\.edu\\.cn\"\n",
    "pattern1 = re.compile(p1)\n",
    "print pattern1.findall(key)"
   ]
  },
  {
   "cell_type": "markdown",
   "metadata": {},
   "source": [
    "发现了吧，我们在<font color=red size=10>.</font>的前面加上了转义符<font color=red size=4>\\</font>，但是并不是代表匹配“\\.”的意思，而是只匹配“.”的意思！\n",
    "不知道你细不细心，有没有发现我们第一次用.时，后面还跟了一个<font color=red size=5>+？</font>那这个加号是干什么的呢？\n",
    "其实不难想，我们说了“.字符在正则表达式代表着可以代表任何一个字符（包括它本身）”，但是\"hello world\"可不是一个字符啊。\n",
    "\n",
    "<font color=red size=5>+</font>的作用是将前面一个字符或一个子表达式重复一遍或者多遍。\n",
    "\n",
    "比方说表达式“ab+”那么它能匹配到“abbbbb”，但是不能匹配到\"a\"，它要求你必须得<font color=blue >有个b</font>，多了不限，少了不行。你如果问我有没有那种“有没有都行，有多少都行的表达方式”，回答是有的。\n",
    "\n",
    "<font color=red size=5>*</font>跟在其他符号后面表达可以匹配到它0次或多次.\n",
    "\n",
    "比方说我们在王叶内遇到了链接，可能既有http://开头的，又有https://开头的，我们怎么处理？"
   ]
  },
  {
   "cell_type": "code",
   "execution_count": 7,
   "metadata": {
    "collapsed": false
   },
   "outputs": [
    {
     "name": "stdout",
     "output_type": "stream",
     "text": [
      "['http://', 'https://']\n"
     ]
    }
   ],
   "source": [
    "import re\n",
    "\n",
    "key = r\"http://www.nsfbuhwe.com and https://www.auhfisna.com\"#胡编乱造的网址，别在意\n",
    "p1 = r\"https*://\"#看那个星号！\n",
    "pattern1 = re.compile(p1)\n",
    "print pattern1.findall(key)"
   ]
  },
  {
   "cell_type": "markdown",
   "metadata": {},
   "source": [
    "比方说我们有这么一个字符串\"cat hat mat qat\"，你会发现前面三个是实际的单词，最后那个是我胡编乱造的（上百度查完是昆士兰英语学院的缩写= =）。如果你本来就知道\"at\"前面是c、h、m其中之一时这才构成单词，你想把这样的匹配出来。根据已经学到的知识是不是会想到写出来三个正则表达式进行匹配？实际上不需要。因为有一种多字符匹方式.\n",
    "\n",
    "<font color=red size=3>[]</font>代表匹配里面的字符中的任意一个。\n",
    "\n",
    "还是举个栗子，我们发现啊，有的程序员比较过分，在 这对标签上，大小写混用，老害得我们抓不到想要的东西，我们该怎么应对？是写16*16种正则表达式挨个匹配？no"
   ]
  },
  {
   "cell_type": "code",
   "execution_count": null,
   "metadata": {
    "collapsed": true
   },
   "outputs": [],
   "source": [
    "<html></html>"
   ]
  },
  {
   "cell_type": "code",
   "execution_count": 8,
   "metadata": {
    "collapsed": false
   },
   "outputs": [
    {
     "name": "stdout",
     "output_type": "stream",
     "text": [
      "['<hTml>hello</Html>']\n"
     ]
    }
   ],
   "source": [
    "import re\n",
    "\n",
    "key = r\"lalala<hTml>hello</Html>heiheihei\"\n",
    "p1 = r\"<[Hh][Tt][Mm][Ll]>.+?</[Hh][Tt][Mm][Ll]>\"\n",
    "pattern1 = re.compile(p1)\n",
    "print pattern1.findall(key)"
   ]
  },
  {
   "cell_type": "markdown",
   "metadata": {},
   "source": [
    "我们既然有了范围性的匹配，自然有范围性的排除。\n",
    "\n",
    "<font color=red size=3>[^]</font>代表除了内部包含的字符以外都能匹配.\n",
    "\n",
    "还是cat,hat,mat,qat这个例子，我们想匹配除了qat以外的，那么就应该这么写："
   ]
  },
  {
   "cell_type": "code",
   "execution_count": 9,
   "metadata": {
    "collapsed": false
   },
   "outputs": [
    {
     "name": "stdout",
     "output_type": "stream",
     "text": [
      "['mat', 'cat', 'hat']\n"
     ]
    }
   ],
   "source": [
    "import re\n",
    "\n",
    "key = r\"mat cat hat pat\"\n",
    "p1 = r\"[^p]at\"#这代表除了p以外都匹配\n",
    "pattern1 = re.compile(p1)\n",
    "print pattern1.findall(key)"
   ]
  },
  {
   "cell_type": "markdown",
   "metadata": {},
   "source": [
    "为了方便我们写简洁的正则表达式，它本身还提供下面这样的写法：\n",
    "![](RE01.png)\n",
    "3.介绍到这里，我们可能已经掌握了大致的正则表达式的构造方式，但是我们常常会在实战中遇到一些匹配的不准确的问题。比方说："
   ]
  },
  {
   "cell_type": "code",
   "execution_count": 1,
   "metadata": {
    "collapsed": false
   },
   "outputs": [
    {
     "name": "stdout",
     "output_type": "stream",
     "text": [
      "['@hit.edu.']\n"
     ]
    }
   ],
   "source": [
    "import re\n",
    "\n",
    "key = r\"chuxiuhong@hit.edu.cn\"\n",
    "p1 = r\"@.+\\.\"#我想匹配到@后面一直到“.”之间的，在这里是hit\n",
    "pattern1 = re.compile(p1)\n",
    "print pattern1.findall(key)"
   ]
  },
  {
   "cell_type": "markdown",
   "metadata": {},
   "source": [
    "呦呵！你咋能多了呢？我理想的结果是@hit.，你咋还给我加量了呢？这是因为正则表达式默认是“贪婪”的，我们之前讲过，“+”代表是字符重复一次或多次。但是我们没有细说这个多次到底是多少次。所以它会尽可能“贪婪”地多给我们匹配字符，在这个例子里也就是匹配到最后一个“.”。\n",
    "我们怎么解决这种问题呢？只要在“+”后面加一个“？”就好了。"
   ]
  },
  {
   "cell_type": "code",
   "execution_count": 2,
   "metadata": {
    "collapsed": false
   },
   "outputs": [
    {
     "name": "stdout",
     "output_type": "stream",
     "text": [
      "['@hit.']\n"
     ]
    }
   ],
   "source": [
    "import re\n",
    "\n",
    "key = r\"chuxiuhong@hit.edu.cn\"\n",
    "p1 = r\"@.+?\\.\"#我想匹配到@后面一直到“.”之间的，在这里是hit\n",
    "pattern1 = re.compile(p1)\n",
    "print pattern1.findall(key)"
   ]
  },
  {
   "cell_type": "markdown",
   "metadata": {},
   "source": [
    "加了一个“?”我们就将贪婪的“+”改成了懒惰的“+”。这对于[abc]+,\\w*之类的同样适用。\n",
    "\n",
    "<font color=red size=5>?</font> 当该字符紧跟在任何一个其他限制符 (*, +, ?, {n}, {n,}, {n,m}) 后面时，匹配模式是非贪婪的。非贪婪模式尽可能少的匹配所搜索的字符串，而默认的贪婪模式则尽可能多的匹配所搜索的字符串。例如，对于字符串 “oooo”，’o+?’ 将匹配单个 “o”，而 ‘o+’ 将匹配所有 ‘o’。\n",
    "\n",
    "<font color=blue >个人建议：</font>\n",
    "在你使用\"+\",\"*\"的时候，一定先想好到底是用贪婪型还是懒惰型，尤其是当你用到范围较大的项目上时，因为很有可能它就多匹配字符回来给你！！！\n",
    "\n",
    "为了能够准确的控制重复次数，正则表达式还提供\n",
    "<font color=red >{a,b}</font>   (代表a<=匹配次数<=b)\n",
    "\n",
    "还是举个栗子，我们有sas,saas,saaas，我们想要sas和saas，我们怎么处理呢？"
   ]
  },
  {
   "cell_type": "code",
   "execution_count": 3,
   "metadata": {
    "collapsed": false
   },
   "outputs": [
    {
     "name": "stdout",
     "output_type": "stream",
     "text": [
      "['saas', 'sas']\n"
     ]
    }
   ],
   "source": [
    "import re\n",
    "\n",
    "key = r\"saas and sas and saaas\"\n",
    "p1 = r\"sa{1,2}s\"\n",
    "pattern1 = re.compile(p1)\n",
    "print pattern1.findall(key)"
   ]
  },
  {
   "cell_type": "markdown",
   "metadata": {},
   "source": [
    "如果你省略掉{1,2}中的2，那么就代表至少匹配一次，那么就等价于？\n",
    "\n",
    "如果你省略掉{1,2}中的1，那么就代表至多匹配2次。\n",
    "\n",
    "下面列举一些正则表达式里的元字符及其作用:\n",
    "![](RE02.png)\n",
    "![](RE03.png)"
   ]
  },
  {
   "cell_type": "markdown",
   "metadata": {},
   "source": [
    "4.子表达式\n",
    "\n",
    "子表达式的概念特别好理解。其实它就是将几个字符的组合形式看做一个大的“字符”。不好理解？举个栗子：我们要匹配类似IP地址这种形式的字符（暂且不考虑数值范围的合理性，这个留作学完之后的思考题吧）。形如192.168.1.1这样的地址我们怎么写表达式呢？"
   ]
  },
  {
   "cell_type": "code",
   "execution_count": null,
   "metadata": {
    "collapsed": true
   },
   "outputs": [],
   "source": [
    "答案一 \\d+.?\\d+.?\\d+.?\\d+"
   ]
  },
  {
   "cell_type": "markdown",
   "metadata": {},
   "source": [
    "不好，一个是太繁琐，另一个是连位数都控制不了"
   ]
  },
  {
   "cell_type": "code",
   "execution_count": null,
   "metadata": {
    "collapsed": true
   },
   "outputs": [],
   "source": [
    "答案二 \\d+{1,3}.?\\d+{1,3}.?\\d+{1,3}.?\\d+{1,3}"
   ]
  },
  {
   "cell_type": "markdown",
   "metadata": {},
   "source": [
    "一般般，复杂但是起码能把位数控制在合理范围"
   ]
  },
  {
   "cell_type": "code",
   "execution_count": null,
   "metadata": {
    "collapsed": true
   },
   "outputs": [],
   "source": [
    "答案三 (\\d+{1,3}\\.){3}\\d+{1,3}\\."
   ]
  },
  {
   "cell_type": "markdown",
   "metadata": {},
   "source": [
    "利用子表达式，将123.这种数字加小数点看做一个整体字符，对其规定重复匹配的次数，既简洁，效果又好。所以只要你将几个字符组合用圆括号括起来，那么你就可以把一个圆括号内的内容当做一个字符，外面可以加我们之前讲过的所有元字符来控制匹配。"
   ]
  },
  {
   "cell_type": "markdown",
   "metadata": {},
   "source": [
    "5.向前向后查找\n",
    "\n",
    "现在，我们终于来到了向前向后查找这一块。为什么说终于来到这了呢？还记得我们在最开始的例子吗？"
   ]
  },
  {
   "cell_type": "code",
   "execution_count": 5,
   "metadata": {
    "collapsed": false
   },
   "outputs": [
    {
     "name": "stdout",
     "output_type": "stream",
     "text": [
      "hello world\n"
     ]
    }
   ],
   "source": [
    "import re\n",
    "\n",
    "key = r\"<html><body><h1>hello world<h1></body></html>\"#这段是你要匹配的文本\n",
    "p1 = r\"(?<=<h1>).+?(?=<h1>)\"#这是我们写的正则表达式规则，你现在可以不理解啥意思\n",
    "pattern1 = re.compile(p1)#我们在编译这段正则表达式\n",
    "matcher1 = re.search(pattern1,key)#在源文本中搜索符合正则表达式的部分\n",
    "print matcher1.group(0)#打印出来"
   ]
  },
  {
   "cell_type": "markdown",
   "metadata": {},
   "source": [
    "这个正则表达式："
   ]
  },
  {
   "cell_type": "code",
   "execution_count": null,
   "metadata": {
    "collapsed": true
   },
   "outputs": [],
   "source": [
    "p1 = r\"(?<=<h1>).+?(?=<h1>)\""
   ]
  },
  {
   "cell_type": "markdown",
   "metadata": {},
   "source": [
    "看到(?<=<h1>) 和 (?=<h1>)了吗？第一个?<=表示在被匹配字符前必须得有<h1>，后面的?=表示被匹配字符后必须有<h1>\n",
    "\n",
    "简单来说，就是你要匹配的字符是XX，但必须满足形式是AXXB这样的字符串，那么你就可以这样写正则表达式"
   ]
  },
  {
   "cell_type": "code",
   "execution_count": null,
   "metadata": {
    "collapsed": false
   },
   "outputs": [],
   "source": [
    "p = r\"(?<=A)XX(?=B)\""
   ]
  },
  {
   "cell_type": "markdown",
   "metadata": {},
   "source": [
    "匹配到的字符串就是XX。并且，向前查找向后查找不需要必须同时出现。如果你愿意，可以只写满足一个条件。\n",
    "\n",
    "所以你也不需要记住哪个是向前查找，哪个是向后查找。只要记住?<=后面跟着的是前缀要求，?=后面跟的是后缀要求。\n",
    "\n",
    "本质上来说，向前查找和向后查找其实是匹配整个字符串，即AXXB，但返回时仅仅返回一个XX。也就是说，如果你愿意，完全可以避开向前向后查找的方式，直接匹配带有前后缀的字符串，然后做字符串切片处理。"
   ]
  },
  {
   "cell_type": "markdown",
   "metadata": {},
   "source": [
    "6.回溯引用\n",
    "\n",
    "不同于前面的向前向后查找，这一条有时候你未必绕的过去。在有些情况下，你还必须得用到回溯引用，所以你如果想拥有在实际应用中使用正则表达式，回溯引用是你应该了解和掌握的。\n",
    "\n",
    "我们还是从最开始的例子来说。"
   ]
  },
  {
   "cell_type": "markdown",
   "metadata": {},
   "source": [
    "你原本要匹配<h1></h1>之间的内容，现在你知道HTML有多级标题，你想把每一级的标题内容都提取出来。你也许会这样写："
   ]
  },
  {
   "cell_type": "code",
   "execution_count": null,
   "metadata": {
    "collapsed": true
   },
   "outputs": [],
   "source": [
    "p = r\"<h[1-6]>.*?</h[1-6]>\""
   ]
  },
  {
   "cell_type": "markdown",
   "metadata": {},
   "source": [
    "这样一来，你就可以将HTML页面内所有的标题内容全部匹配出来。即<h1></h1>到<h6></h6>的内容都可以被提取出来。"
   ]
  },
  {
   "cell_type": "markdown",
   "metadata": {},
   "source": [
    "但是我们之前说过，写正则表达式困难的不是匹配到想要的内容，而是尽可能的不匹配到不想要的内容。在这个例子中，很有可能你就会被下面这样的用例玩坏。 比方说："
   ]
  },
  {
   "cell_type": "code",
   "execution_count": null,
   "metadata": {
    "collapsed": true
   },
   "outputs": [],
   "source": [
    "<h1>hello world</h3>"
   ]
  },
  {
   "cell_type": "markdown",
   "metadata": {},
   "source": [
    "发现后面的</h3>了吗？我们不管是怎么写出来这样的标题的，但实实在在的是我们的正则表达式同样会把这里面的hello world匹配出来。这时候就是回溯引用的重要作用。下面就是一个示例："
   ]
  },
  {
   "cell_type": "code",
   "execution_count": 9,
   "metadata": {
    "collapsed": false
   },
   "outputs": [
    {
     "name": "stdout",
     "output_type": "stream",
     "text": [
      "<h3>hello world</h3>\n"
     ]
    }
   ],
   "source": [
    "import re\n",
    "\n",
    "key = r\"<h3>hello world</h3>\"\n",
    "p1 = r\"<h([1-6])>.*?</h\\1>\"\n",
    "pattern1 = re.compile(p1)\n",
    "m1 = re.search(pattern1,key)\n",
    "print m1.group(0)"
   ]
  },
  {
   "cell_type": "markdown",
   "metadata": {},
   "source": [
    "看到\\1了吗？原本那个位置应该是[1-6]，但是我们写的是\\1，我们之前说过，转义符\\干的活就是把特殊的字符转成一般的字符，把一般的字符转成特殊字符。普普通通的数字1被转移成什么了呢？在这里1表示第一个子表达式，也就是说，它是动态的，是随着前面第一个子表达式的匹配到的东西而变化的。比方说前面的子表达式内是[1-6]，在实际字符串中找到了1，那么后面的\\1就是1，如果前面的子表达式在实际字符串中找到了2，那么后面的\\1就是2。\n",
    "\n",
    "类似的，\\2,\\3,....就代表第二个第三个子表达式。\n",
    "\n",
    "所以回溯引用是正则表达式内的一个“动态”的正则表达式，让你根据实际的情况变化进行匹配。"
   ]
  }
 ],
 "metadata": {
  "anaconda-cloud": {},
  "kernelspec": {
   "display_name": "Python 2",
   "language": "python",
   "name": "python2"
  },
  "language_info": {
   "codemirror_mode": {
    "name": "ipython",
    "version": 2
   },
   "file_extension": ".py",
   "mimetype": "text/x-python",
   "name": "python",
   "nbconvert_exporter": "python",
   "pygments_lexer": "ipython2",
   "version": "2.7.13"
  },
  "toc": {
   "colors": {
    "hover_highlight": "#DAA520",
    "navigate_num": "#000000",
    "navigate_text": "#333333",
    "running_highlight": "#FF0000",
    "selected_highlight": "#FFD700",
    "sidebar_border": "#EEEEEE",
    "wrapper_background": "#FFFFFF"
   },
   "moveMenuLeft": true,
   "nav_menu": {
    "height": "30px",
    "width": "252px"
   },
   "navigate_menu": true,
   "number_sections": true,
   "sideBar": true,
   "threshold": 4,
   "toc_cell": false,
   "toc_section_display": "block",
   "toc_window_display": false,
   "widenNotebook": false
  }
 },
 "nbformat": 4,
 "nbformat_minor": 1
}
